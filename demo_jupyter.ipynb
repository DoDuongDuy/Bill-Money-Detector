{
 "cells": [
  {
   "cell_type": "markdown",
   "metadata": {},
   "source": [
    "import thư viện và khai báo biến"
   ]
  },
  {
   "cell_type": "code",
   "execution_count": 1,
   "metadata": {},
   "outputs": [],
   "source": [
    "import cv2\n",
    "import numpy as np \n",
    "import math\n",
    "import glob\n",
    "from matplotlib import pyplot as plt\n",
    "money_template = []\n",
    "money_value = []"
   ]
  },
  {
   "cell_type": "markdown",
   "metadata": {},
   "source": [
    "load các hình ảnh mẫu và giá trị vào biến"
   ]
  },
  {
   "cell_type": "code",
   "execution_count": 2,
   "metadata": {},
   "outputs": [
    {
     "name": "stdout",
     "output_type": "stream",
     "text": [
      "['template\\\\1000   .png', 'template\\\\1000  .png', 'template\\\\1000 .png', 'template\\\\1000.png', 'template\\\\10000    .png', 'template\\\\10000  .png', 'template\\\\10000 .png', 'template\\\\10000.png', 'template\\\\100000   .png', 'template\\\\100000  .png', 'template\\\\100000 .png', 'template\\\\100000.png', 'template\\\\2000   .png', 'template\\\\2000  .png', 'template\\\\2000 .png', 'template\\\\2000.png', 'template\\\\20000  .png', 'template\\\\20000 .png', 'template\\\\20000.png', 'template\\\\500    .png', 'template\\\\500   .png', 'template\\\\500 .png', 'template\\\\500.png', 'template\\\\5000   .png', 'template\\\\5000  .png', 'template\\\\5000 .png', 'template\\\\5000.png', 'template\\\\50000   .png', 'template\\\\50000  .png', 'template\\\\50000 .png', 'template\\\\50000.png', 'template\\\\500000   .png', 'template\\\\500000  .png', 'template\\\\500000 .png', 'template\\\\500000.png']\n"
     ]
    }
   ],
   "source": [
    "files = glob.glob(\"template\\\\*.png\")\n",
    "print(files)\n",
    "for item in files:\n",
    "    img = cv2.imread(item, 0)\n",
    "    money_template.append (img)\n",
    "    val = item.split(\"\\\\\")[-1]\n",
    "    val = val.split(\".\")[0]\n",
    "    money_value.append(val)"
   ]
  },
  {
   "cell_type": "markdown",
   "metadata": {},
   "source": [
    "xem giá trị của các biến mẫu"
   ]
  },
  {
   "cell_type": "code",
   "execution_count": null,
   "metadata": {},
   "outputs": [],
   "source": [
    "for i in range(len(money_template)):\n",
    "    plt.subplot(1,len(money_template),i+1),plt.imshow(money_template[i],'gray')\n",
    "    plt.title(money_value[i])\n",
    "    plt.xticks([]),plt.yticks([])\n",
    "plt.show()"
   ]
  },
  {
   "cell_type": "markdown",
   "metadata": {},
   "source": [
    "Tải ảnh cần kiểm tra vào dưới dạng ảnh xám"
   ]
  },
  {
   "cell_type": "code",
   "execution_count": null,
   "metadata": {},
   "outputs": [],
   "source": [
    "img = cv2.imread(\"image\\\\abc.jpg\", 0)\n",
    "plt.subplot(1,1,1),plt.imshow(img,'gray')\n",
    "plt.title(\"input image\")\n",
    "plt.xticks([]),plt.yticks([])\n",
    "plt.show()"
   ]
  },
  {
   "cell_type": "markdown",
   "metadata": {},
   "source": [
    "bước 1: làm mờ ảnh bằng bộ lọc trung bình"
   ]
  },
  {
   "cell_type": "code",
   "execution_count": null,
   "metadata": {},
   "outputs": [],
   "source": [
    "img_blur = cv2.blur(img, (5,5))\n",
    "plt.subplot(1,1 , 1),plt.imshow(img_blur,'gray')\n",
    "plt.title(\"blur image\")\n",
    "plt.xticks([]),plt.yticks([])\n",
    "plt.show()\n",
    " #cv2.imwrite(\"out.png\",img_blur )"
   ]
  },
  {
   "cell_type": "markdown",
   "metadata": {},
   "source": [
    "bước 2: tìm cạnh (canny)"
   ]
  },
  {
   "cell_type": "code",
   "execution_count": null,
   "metadata": {},
   "outputs": [],
   "source": [
    "img_canny = cv2.Canny(img_blur,30, 40)\n",
    "plt.subplot(1,1 , 1),plt.imshow(img_canny,'gray')\n",
    "plt.title(\"canny image\")\n",
    "plt.xticks([]),plt.yticks([])\n",
    "plt.show()\n",
    "# cv2.imwrite(\"out.png\",img_canny )"
   ]
  },
  {
   "cell_type": "markdown",
   "metadata": {},
   "source": [
    "bước 3: threshold ostu"
   ]
  },
  {
   "cell_type": "code",
   "execution_count": null,
   "metadata": {},
   "outputs": [],
   "source": [
    "_, img_threshold = cv2.threshold(img_canny, 0, 255, cv2.THRESH_OTSU)\n",
    "plt.subplot(1,1 , 1),plt.imshow(img_threshold,'gray')\n",
    "plt.title(\"threshold image\")\n",
    "plt.xticks([]),plt.yticks([])\n",
    "plt.show()\n",
    "# cv2.imwrite(\"out.png\",img_threshold )"
   ]
  },
  {
   "cell_type": "markdown",
   "metadata": {},
   "source": [
    "bước 4: close hình ảnh với kernel (30,30)"
   ]
  },
  {
   "cell_type": "code",
   "execution_count": null,
   "metadata": {},
   "outputs": [],
   "source": [
    "kernel = np.ones((30,30),np.uint8)\n",
    "img_closed = cv2.morphologyEx(img_threshold, cv2.MORPH_CLOSE, kernel)\n",
    "plt.subplot(1,1 , 1),plt.imshow(img_closed,'gray')\n",
    "plt.title(\"closed image\")\n",
    "plt.xticks([]),plt.yticks([])\n",
    "plt.show()\n",
    "#cv2.imwrite(\"out.png\",img_closed )"
   ]
  },
  {
   "cell_type": "markdown",
   "metadata": {},
   "source": [
    "bước 5 tìm contours có kích thước lớn nhất là đồng tiền"
   ]
  },
  {
   "cell_type": "code",
   "execution_count": null,
   "metadata": {},
   "outputs": [],
   "source": [
    "_, contours, _ = cv2.findContours(img_closed,cv2.RETR_EXTERNAL,cv2.CHAIN_APPROX_SIMPLE)\n",
    "\n",
    "cnt = None\n",
    "s_max_large = 0\n",
    "for item in contours:\n",
    "    s = cv2.contourArea(item)\n",
    "    if(s > s_max_large):\n",
    "        s_max_large = s\n",
    "        cnt = item"
   ]
  },
  {
   "cell_type": "markdown",
   "metadata": {},
   "source": [
    "bước 6: tìm hình chữ nhật nhỏ nhất bound lấy đồng tiền"
   ]
  },
  {
   "cell_type": "code",
   "execution_count": null,
   "metadata": {
    "scrolled": true
   },
   "outputs": [],
   "source": [
    "rect = cv2.minAreaRect(cnt)\n",
    "box = cv2.boxPoints(rect)\n",
    "box = np.int0(box)\n",
    "imgcp = img.copy()\n",
    "im = cv2.drawContours(imgcp,[box],0,(127),10)\n",
    "plt.subplot(1,1 , 1),plt.imshow(im,'gray')\n",
    "plt.title(\"dettected image\")\n",
    "plt.xticks([]),plt.yticks([])\n",
    "plt.show()\n",
    "#cv2.imwrite(\"out.png\",imgcp )"
   ]
  },
  {
   "cell_type": "markdown",
   "metadata": {},
   "source": [
    "thực hiện tìm góc lệch và xoay ảnh lại cho đồng tiền nằm ngang"
   ]
  },
  {
   "cell_type": "code",
   "execution_count": null,
   "metadata": {},
   "outputs": [],
   "source": [
    "#xác định tâm xoay\n",
    "M = cv2.moments(cnt)\n",
    "cx = int(M['m10']/M['m00'])\n",
    "cy = int(M['m01']/M['m00'])\n",
    "box = cv2.boxPoints(rect)\n",
    "box = np.int0(box)\n",
    "#xoay ảnh\n",
    "angle = rect[2]\n",
    "RM = cv2.getRotationMatrix2D((cx,cy),angle,1)\n",
    "# tính độ dài chiều dọc (dist1) và chiều ngang(dist2). nếu chiều dọc > chiều ngang đồng tiền nằm dọc khi đó cần cộng thêm 90 độ xoay\n",
    "dist1 = int(math.sqrt((box[1][0]  - box[0][0])**2 + (box[1][1]  - box[0][1])**2))\n",
    "dist2 = int(math.sqrt((box[3][0]  - box[0][0])**2 + (box[3][1]  - box[0][1])**2))\n",
    "if(dist1 > dist2):\n",
    "    angle += 90\n",
    "rows, cols = img.shape\n",
    "# thực hiện xoay lại ảnh\n",
    "RM = cv2.getRotationMatrix2D((cx,cy),angle,1)\n",
    "img_rotated = cv2.warpAffine(img,RM,(cols,rows))\n",
    "plt.subplot(1,1 , 1),plt.imshow(img_rotated,'gray')\n",
    "plt.title(\"rotation image\")\n",
    "plt.xticks([]),plt.yticks([])\n",
    "plt.show()\n",
    "cv2.imwrite(\"img_rotated.png\",img_rotated )"
   ]
  },
  {
   "cell_type": "markdown",
   "metadata": {},
   "source": [
    "bước 7: thực hiện lại từ bươc 1 -> bước 5 để tim đồng tiền với bức ảnh đồng tiền nằm ngang"
   ]
  },
  {
   "cell_type": "code",
   "execution_count": null,
   "metadata": {},
   "outputs": [],
   "source": [
    "img_blur2 = cv2.blur(img_rotated, (5,5))\n",
    "img_canny2 = cv2.Canny(img_blur2,30, 40)\n",
    "_, img_threshold2 = cv2.threshold(img_canny2, 0, 255, cv2.THRESH_OTSU)\n",
    "kernel2 = np.ones((30,30),np.uint8)\n",
    "img_closed2 = cv2.morphologyEx(img_threshold2, cv2.MORPH_CLOSE, kernel2)\n",
    "_, contours2, _ = cv2.findContours(img_closed2,cv2.RETR_EXTERNAL,cv2.CHAIN_APPROX_SIMPLE)\n",
    "\n",
    "cnt2 = None\n",
    "s_max_large2 = 0\n",
    "for item in contours2:\n",
    "    s = cv2.contourArea(item)\n",
    "    if(s > s_max_large2):\n",
    "        s_max_large2 = s\n",
    "        cnt2 = item"
   ]
  },
  {
   "cell_type": "markdown",
   "metadata": {},
   "source": [
    "bước 8: tìm hình chữ nhật bound contours lớn nhất và cắt hình ảnh với hình chữ nhật này"
   ]
  },
  {
   "cell_type": "code",
   "execution_count": null,
   "metadata": {
    "scrolled": true
   },
   "outputs": [],
   "source": [
    "x,y,w,h = cv2.boundingRect(cnt2)\n",
    "img_money = img_rotated[y:y+h, x:x+w]\n",
    "plt.subplot(1,1 , 1),plt.imshow(img_money,'gray')\n",
    "plt.title(\"image\")\n",
    "plt.xticks([]),plt.yticks([])\n",
    "plt.show()\n",
    "#cv2.imwrite(\"img_money.png\",img_money )"
   ]
  },
  {
   "cell_type": "markdown",
   "metadata": {},
   "source": [
    "bước 9: thực hiện so khớp( bằng phép trừ ảnh) với từng ảnh mẫu. nếu ảnh nào khớp nhất thì đồng tiền hiện tại có giá trị cùng với ảnh mẫu đó"
   ]
  },
  {
   "cell_type": "code",
   "execution_count": null,
   "metadata": {},
   "outputs": [],
   "source": [
    "val = \"\"\n",
    "# đặt 1 giá trị đếm pixel vô cùng lớn(lớn hơn diện tích của hình ảnh đồng tiền)\n",
    "min_count = 500*500 \n",
    "# thực hiện làm mờ ảnh kiểm tra\n",
    "img_det_blur = cv2.blur(img_money, (5,5))\n",
    "for i , im in enumerate(money_template):\n",
    "    # lấy kích thước của ảnh mẫu\n",
    "    h,w = im.shape\n",
    "    # thực hiện resize kích thước ảnh kiểm tra về cùng với ảnh mẫu để có thể trừ\n",
    "    im_rz = cv2.resize(img_det_blur, (w,h))\n",
    "    # làm mờ ảnh mẫu\n",
    "    img_ref_blur = cv2.blur(im, (5,5))\n",
    "    # cân bằng sáng ảnh mẫu và ảnh kiểm tra để tránh ánh sáng quá sáng hoặc quá tối\n",
    "    eq_ref = cv2.equalizeHist(img_ref_blur)\n",
    "    eq_def = cv2.equalizeHist(im_rz)\n",
    "    # thực hiện trừ ảnh\n",
    "    sub_img = cv2.subtract(eq_ref, eq_def)\n",
    "    # phân ngưỡng và thực hiện đếm điểm không khớp (điểm sáng là điểm không khớp)\n",
    "    _, img_threshold = cv2.threshold(sub_img, 0, 255, cv2.THRESH_OTSU)\n",
    "    count = cv2.countNonZero(img_threshold)\n",
    "    # giá trị này càng nhỏ thì độ khớp càng lớn\n",
    "    if(count  < min_count):\n",
    "        min_count = count\n",
    "        val = money_value[i]\n",
    "    cv2.imwrite(\"out_jupyter1\\\\\" + \"lan1 - \" + money_value[i] + \".png\", sub_img)\n"
   ]
  },
  {
   "cell_type": "markdown",
   "metadata": {},
   "source": [
    "bước 10: đồng tiền có thể nằm ngược nên xoay 180 độ và thực hiện so khớp lại 1 lần. nếu giá trị khớp nào tốt hơn thì lấy"
   ]
  },
  {
   "cell_type": "code",
   "execution_count": null,
   "metadata": {},
   "outputs": [],
   "source": [
    "# xoay ảnh 180 độ\n",
    "rows, cols = img_det_blur.shape\n",
    "M = cv2.getRotationMatrix2D((int(cols/2),int(rows/2)),180,1)\n",
    "img_det_blur = cv2.warpAffine(img_det_blur,M,(cols,rows))\n",
    " #thực hiện so khớp lại lần 2\n",
    "for i , im in enumerate(money_template):\n",
    "    h,w = im.shape\n",
    "    im_rz = cv2.resize(img_det_blur, (w,h))\n",
    "    img_ref_blur = cv2.blur(im, (5,5))\n",
    "    eq_ref = cv2.equalizeHist(img_ref_blur)\n",
    "    eq_def = cv2.equalizeHist(im_rz)\n",
    "    sub_img = cv2.subtract(eq_ref, eq_def)\n",
    "    _, img_threshold = cv2.threshold(sub_img, 0, 255, cv2.THRESH_OTSU)\n",
    "    count = cv2.countNonZero(img_threshold)\n",
    "    if(count  < min_count):\n",
    "        min_count = count\n",
    "        val = money_value[i]\n",
    "    #cv2.imwrite(\"out_jupyter2//\" + \"lan2 - \" + money_value[i] + \".png\", sub_img)"
   ]
  },
  {
   "cell_type": "markdown",
   "metadata": {},
   "source": [
    "giá trị đồng tiền được lưu trong biến val khi quá trình kết thúc"
   ]
  },
  {
   "cell_type": "code",
   "execution_count": null,
   "metadata": {},
   "outputs": [],
   "source": [
    "print(val)"
   ]
  },
  {
   "cell_type": "code",
   "execution_count": null,
   "metadata": {},
   "outputs": [],
   "source": []
  }
 ],
 "metadata": {
  "kernelspec": {
   "display_name": "Python 3",
   "language": "python",
   "name": "python3"
  },
  "language_info": {
   "codemirror_mode": {
    "name": "ipython",
    "version": 3
   },
   "file_extension": ".py",
   "mimetype": "text/x-python",
   "name": "python",
   "nbconvert_exporter": "python",
   "pygments_lexer": "ipython3",
   "version": "3.7.4"
  }
 },
 "nbformat": 4,
 "nbformat_minor": 2
}
